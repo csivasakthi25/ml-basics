{
 "cells": [
  {
   "cell_type": "code",
   "execution_count": 3,
   "metadata": {},
   "outputs": [
    {
     "data": {
      "image/png": "[encoded data removed]",
      "text/plain": [
       "<Figure size 432x288 with 1 Axes>"
      ]
     },
     "metadata": {
      "needs_background": "light"
     },
     "output_type": "display_data"
    }
   ],
   "source": [
    "import matplotlib.pyplot as plt\n",
    "import matplotlib.animation as animation\n",
    "import numpy as np\n",
    "\n",
    "fig = plt.figure()\n",
    "ax = plt.axes(xlim=(-50,50), ylim=(-50,50))\n",
    "line, = ax.plot([], [], lw=2)\n",
    "\n",
    "def init():\n",
    "    line.set_data([],[])\n",
    "    return line,\n",
    "\n",
    "xdata, ydata = [],[]\n",
    "\n",
    "def animate(i):\n",
    "    \n",
    "    t = 0.1*i\n",
    "    \n",
    "    x = t*np.sin(t)\n",
    "    y = t*np.cos(t)\n",
    "    \n",
    "    xdata.append(x)\n",
    "    ydata.append(y)\n",
    "    \n",
    "    line.set_data(xdata, ydata)\n",
    "    \n",
    "    return line,\n",
    "\n",
    "plt.title('A growing coil!')\n",
    "\n",
    "plt.axis('off')\n",
    "\n",
    "anim = animation.FuncAnimation(fig, animate, init_func=init,\n",
    "                               frames=500, interval=20, blit=True)\n",
    "\n",
    "#anim.save('animated_coil.mp4', writer='ffmpeg', fps = 30)\n",
    "\n",
    "plt.show()\n",
    "\n",
    "\n"
   ]
  },
  {
   "cell_type": "code",
   "execution_count": 3,
   "metadata": {},
   "outputs": [
    {
     "data": {
      "image/png": "[encoded data removed]",
      "text/plain": [
       "<Figure size 432x288 with 1 Axes>"
      ]
     },
     "metadata": {
      "needs_background": "light"
     },
     "output_type": "display_data"
    }
   ],
   "source": [
    "import matplotlib.pyplot as plt\n",
    "import matplotlib.animation as animation\n",
    "import numpy as np\n",
    "\n",
    "fig = plt.figure()\n",
    "ax = plt.axes(xlim=(-50,50), ylim=(-50,50))\n",
    "line, = ax.plot([], [], lw=2)\n",
    "\n",
    "def init():\n",
    "    line.set_data([],[])\n",
    "    return line,\n",
    "\n",
    "xdata, ydata = [],[]\n",
    "\n",
    "def animate(i):\n",
    "    \n",
    "    t = 0.1*i\n",
    "    \n",
    "    x = t*np.sin(t)\n",
    "    y = t*np.cos(t)\n",
    "    \n",
    "    xdata.append(x)\n",
    "    ydata.append(y)\n",
    "    \n",
    "    line.set_data(xdata, ydata)\n",
    "    \n",
    "    return line,\n",
    "\n",
    "plt.title('A growing coil!')\n",
    "\n",
    "plt.axis('off')\n",
    "\n",
    "anim = animation.FuncAnimation(fig, animate, init_func=init,\n",
    "                               frames=500, interval=20, blit=True)\n",
    "\n",
    "#anim.save('animated_coil.mp4', writer='ffmpeg', fps = 30)\n",
    "\n",
    "plt.show()"
   ]
  },
  {
   "cell_type": "code",
   "execution_count": 4,
   "metadata": {},
   "outputs": [
    {
     "data": {
      "image/png": "[encoded data removed]",
      "text/plain": [
       "<Figure size 432x288 with 1 Axes>"
      ]
     },
     "metadata": {
      "needs_background": "light"
     },
     "output_type": "display_data"
    }
   ],
   "source": [
    "import matplotlib.pyplot as plt\n",
    "import matplotlib.animation as animation\n",
    "import numpy as np\n",
    "\n",
    "fig = plt.figure()\n",
    "ax = plt.axes(xlim=(-50,50), ylim=(-50,50))\n",
    "line, = ax.plot([], [], lw=2)\n",
    "\n",
    "def init():\n",
    "    line.set_data([],[])\n",
    "    return line,\n",
    "\n",
    "xdata, ydata = [],[]\n",
    "\n",
    "def animate(i):\n",
    "    \n",
    "    t = 0.1*i\n",
    "    \n",
    "    x = t*np.sin(t)\n",
    "    y = t*np.cos(t)\n",
    "    \n",
    "    xdata.append(x)\n",
    "    ydata.append(y)\n",
    "    \n",
    "    line.set_data(xdata, ydata)\n",
    "    \n",
    "    return line,\n",
    "\n",
    "plt.title('A growing coil!')\n",
    "\n",
    "plt.axis('off')\n",
    "\n",
    "anim = animation.FuncAnimation(fig, animate, init_func=init,\n",
    "                               frames=500, interval=20, blit=True)\n",
    "\n",
    "#anim.save('animated_coil.mp4', writer='ffmpeg', fps = 30)\n",
    "\n",
    "plt.show()"
   ]
  },
  {
   "cell_type": "code",
   "execution_count": null,
   "metadata": {},
   "outputs": [],
   "source": []
  }
 ],
 "metadata": {
  "kernelspec": {
   "display_name": "Python 3",
   "language": "python",
   "name": "python3"
  },
  "language_info": {
   "codemirror_mode": {
    "name": "ipython",
    "version": 3
   },
   "file_extension": ".py",
   "mimetype": "text/x-python",
   "name": "python",
   "nbconvert_exporter": "python",
   "pygments_lexer": "ipython3",
   "version": "3.7.6"
  }
 },
 "nbformat": 4,
 "nbformat_minor": 4
}
