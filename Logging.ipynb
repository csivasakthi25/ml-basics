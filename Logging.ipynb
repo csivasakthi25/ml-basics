{
 "cells": [
  {
   "cell_type": "markdown",
   "metadata": {},
   "source": [
    "### Logging"
   ]
  },
  {
   "cell_type": "markdown",
   "metadata": {},
   "source": [
    "https://www.geeksforgeeks.org/python-add-logging-to-a-python-script/?ref=lbp"
   ]
  },
  {
   "cell_type": "code",
   "execution_count": 12,
   "metadata": {},
   "outputs": [],
   "source": [
    "import logging\n",
    "from imp import reload\n",
    "\n",
    "def main():\n",
    "    \n",
    "    reload(logging)\n",
    "    \n",
    "    logging.basicConfig(filename = 'app1.log', \n",
    "                        level = logging.ERROR,\n",
    "                        format = '%(levelname)s:%(asctime)s:%(message)s')\n",
    "    \n",
    "    hostname = 'www.python.org'\n",
    "    item = 'spam'\n",
    "    filename = 'data.csv'\n",
    "    mode = 'r'\n",
    "    \n",
    "    logging.critical('Host %s unknown', hostname)\n",
    "    logging.error('Couldn''t find %r', item)\n",
    "    logging.warning('Feature is deprecated')\n",
    "    logging.info('Opening file %r, mode = %r', filename, mode)\n",
    "    logging.debug('Got here')\n",
    "    \n",
    "if __name__ == '__main__':\n",
    "    main()"
   ]
  },
  {
   "cell_type": "markdown",
   "metadata": {},
   "source": [
    "https://stackoverflow.com/a/53553516"
   ]
  },
  {
   "cell_type": "code",
   "execution_count": 13,
   "metadata": {},
   "outputs": [
    {
     "name": "stderr",
     "output_type": "stream",
     "text": [
      "2020-11-09 01:06:54,489__[ERROR, <ipython-input-13-cdbe52321783>.init_logger](root)__[L17] init basic configure of logging success\n"
     ]
    }
   ],
   "source": [
    "import logging\n",
    "from imp import reload\n",
    "\n",
    "def init_logger(*, fn = None):\n",
    "\n",
    "    reload(logging)\n",
    "    \n",
    "    logging_params = {\n",
    "        'level' : logging.INFO,\n",
    "        'format': '%(asctime)s__[%(levelname)s, %(module)s.%(funcName)s](%(name)s)__[L%(lineno)d] %(message)s',\n",
    "    }\n",
    "    \n",
    "    if fn is not None:\n",
    "        logging_params['filename'] = fn\n",
    "        \n",
    "    logging.basicConfig(**logging_params)\n",
    "    logging.error('init basic configure of logging success')\n",
    "    \n",
    "init_logger()"
   ]
  },
  {
   "cell_type": "markdown",
   "metadata": {},
   "source": [
    "https://stackoverflow.com/a/56689445"
   ]
  },
  {
   "cell_type": "code",
   "execution_count": 10,
   "metadata": {},
   "outputs": [
    {
     "name": "stderr",
     "output_type": "stream",
     "text": [
      "2020-11-09 00:56:23,473 - Spam Logger - DEBUG - debug Spam message\n",
      "2020-11-09 00:56:23,476 - Spam Logger - INFO - info Ham message\n",
      "2020-11-09 00:56:23,477 - Spam Logger - WARNING - warn Eggs message\n",
      "2020-11-09 00:56:23,479 - Spam Logger - ERROR - error Spam and Ham message\n",
      "2020-11-09 00:56:23,480 - Spam Logger - CRITICAL - critical Ham and Eggs message\n"
     ]
    }
   ],
   "source": [
    "import logging\n",
    "from imp import reload\n",
    "\n",
    "reload(logging)\n",
    "\n",
    "logger = logging.getLogger('Spam Logger')\n",
    "logger.setLevel(logging.DEBUG)\n",
    "\n",
    "fh = logging.FileHandler('Spam.log')\n",
    "fh.setLevel(logging.DEBUG)\n",
    "\n",
    "ch = logging.StreamHandler()\n",
    "ch.setLevel(logging.DEBUG)\n",
    "\n",
    "formatter = logging.Formatter('%(asctime)s - %(name)s - %(levelname)s - %(message)s')\n",
    "ch.setFormatter(formatter)\n",
    "fh.setFormatter(formatter)\n",
    "\n",
    "logger.addHandler(ch)\n",
    "logger.addHandler(fh)\n",
    "\n",
    "logger.debug('debug Spam message')\n",
    "logger.info('info Ham message')\n",
    "logger.warning('warn Eggs message')\n",
    "logger.error('error Spam and Ham message')\n",
    "logger.critical('critical Ham and Eggs message')"
   ]
  },
  {
   "cell_type": "markdown",
   "metadata": {},
   "source": [
    "https://stackoverflow.com/q/56809846"
   ]
  },
  {
   "cell_type": "code",
   "execution_count": 11,
   "metadata": {},
   "outputs": [
    {
     "name": "stdout",
     "output_type": "stream",
     "text": [
      "[1 2 3]\n",
      "hello world\n",
      "    col1  col2\n",
      "0      0     0\n",
      "1      1     1\n",
      "2      2     2\n",
      "3      3     3\n",
      "4      4     0\n",
      "5      5     1\n",
      "6      6     2\n",
      "7      7     3\n",
      "8      8     0\n",
      "9      9     1\n",
      "10    10     2\n",
      "11    11     3\n",
      "12    12     0\n",
      "13    13     1\n",
      "14    14     2\n",
      "15    15     3\n",
      "16    16     0\n",
      "17    17     1\n",
      "18    18     2\n",
      "19    19     3\n",
      "20    20     0\n",
      "21    21     1\n",
      "22    22     2\n",
      "23    23     3\n",
      "24    24     0\n",
      "25    25     1\n",
      "26    26     2\n",
      "27    27     3\n",
      "28    28     0\n",
      "29    29     1\n",
      "30    30     2\n",
      "31    31     3\n",
      "32    32     0\n",
      "33    33     1\n",
      "34    34     2\n",
      "35    35     3\n",
      "36    36     0\n",
      "37    37     1\n",
      "38    38     2\n",
      "39    39     3\n"
     ]
    }
   ],
   "source": [
    "import numpy as np\n",
    "import pandas as pd\n",
    "import logging\n",
    "import sys\n",
    "\n",
    "logger = logging.getLogger('test2')\n",
    "logger.setLevel(logging.DEBUG)\n",
    "\n",
    "formatter = logging.Formatter('%(asctime)s - %(name)s - %(levelname)s - %(message)s')\n",
    "\n",
    "fh = logging.FileHandler('test2.log')\n",
    "fh.setLevel(logging.DEBUG)\n",
    "fh.setFormatter(formatter)\n",
    "logger.addHandler(fh)\n",
    "\n",
    "ch = logging.StreamHandler(stream=sys.stdout)\n",
    "ch.setLevel(logging.ERROR)\n",
    "ch.setFormatter(formatter)\n",
    "logger.addHandler(ch)\n",
    "\n",
    "X = np.array([1,2,3])\n",
    "print(X)\n",
    "logger.info(f'{X}')\n",
    "\n",
    "str1 = 'hello world'\n",
    "print(str1)\n",
    "logger.info(str1)\n",
    "\n",
    "df = pd.DataFrame({'col1': np.arange(40),\n",
    "                   'col2': np.tile([0,1,2,3],10)\n",
    "                    })\n",
    "print(df)\n",
    "logger.info(f'{df}')"
   ]
  }
 ],
 "metadata": {
  "kernelspec": {
   "display_name": "Python 3",
   "language": "python",
   "name": "python3"
  },
  "language_info": {
   "codemirror_mode": {
    "name": "ipython",
    "version": 3
   },
   "file_extension": ".py",
   "mimetype": "text/x-python",
   "name": "python",
   "nbconvert_exporter": "python",
   "pygments_lexer": "ipython3",
   "version": "3.7.9"
  }
 },
 "nbformat": 4,
 "nbformat_minor": 4
}
